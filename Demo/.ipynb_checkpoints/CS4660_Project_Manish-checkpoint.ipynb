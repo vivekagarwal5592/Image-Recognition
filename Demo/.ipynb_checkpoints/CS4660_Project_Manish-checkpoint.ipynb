{
 "cells": [
  {
   "cell_type": "markdown",
   "metadata": {},
   "source": [
    "## Finding dishes with food in a given dining image\n",
    "\n",
    "### Uses the following steps to identify image of food in a given image\n",
    "#### 1. Pick 100 images each of Entree, Dessert, Salad and Non-food to train Scikit-Learn SVC classifier\n",
    "#### 2. Pre-process all training images by first resizing to a fixed size\n",
    "#### 3. Use HOG descriptor to get correct information about the image\n",
    "#### 4. Extracted the colors from every image and made three new columns representing the RED, GREEN, BLUE colors. \n",
    "#### 5. Fit all of the 400 images to SVC to train the classifier\n",
    "#### 6. use each of the contour to predict the trained SVC classifier"
   ]
  },
  {
   "cell_type": "code",
   "execution_count": 46,
   "metadata": {
    "collapsed": true
   },
   "outputs": [],
   "source": [
    "import os\n",
    "from os import listdir\n",
    "from os.path import isfile, join\n",
    "from io import open\n",
    "from time import time\n",
    "\n",
    "import cv2\n",
    "import numpy as np\n",
    "from random import shuffle\n",
    "import imutils #need to install this with pip\n",
    "\n",
    "\n",
    "from skimage import data, color, exposure\n",
    "from sklearn.svm import SVC\n",
    "from sklearn.model_selection import train_test_split\n",
    "from sklearn.metrics import accuracy_score\n",
    "from sklearn.metrics import confusion_matrix\n",
    "from sklearn.metrics import classification_report\n",
    "\n",
    "import matplotlib.pyplot as plt\n",
    "%matplotlib inline"
   ]
  },
  {
   "cell_type": "code",
   "execution_count": 47,
   "metadata": {
    "collapsed": true
   },
   "outputs": [],
   "source": [
    "label_list = [\"Entree\", \"Salad\", \"Dessert\"]"
   ]
  },
  {
   "cell_type": "code",
   "execution_count": 48,
   "metadata": {
    "collapsed": true
   },
   "outputs": [],
   "source": [
    "# Utility method to get all the images.\n",
    "def get_file_list_for_label(label):\n",
    "    \"\"\"\n",
    "    Returns the list of files for a given label. Assumes that the image documents are arranged into\n",
    "    folder with same name as the labels under '../Data' directory.\n",
    "    \"\"\"\n",
    "    data_file_path = \"../Data/Training/\" + label\n",
    "    return [join(data_file_path, f) for f in listdir(data_file_path) if isfile(join(data_file_path, f))]"
   ]
  },
  {
   "cell_type": "code",
   "execution_count": 49,
   "metadata": {
    "collapsed": true
   },
   "outputs": [],
   "source": [
    "# Constructs and returns a list of images and the corresponding labels\n",
    "# The feature at this point is nothing but the image itself. Later in pre-processing,\n",
    "# the image content will be reduced into features using HOG.\n",
    "def get_images_and_labels():\n",
    "    \"\"\"\n",
    "    Returns all the image contents (features), their corresponding label names as \n",
    "    two a list of tuples.\n",
    "    \"\"\"\n",
    "    image_label_list = []\n",
    "    for label in label_list:\n",
    "        file_list = get_file_list_for_label(label)\n",
    "        for file in file_list:\n",
    "            img = cv2.imread(file)\n",
    "            image_label_list.append((img, label))\n",
    "    #shuffle(image_label_list)\n",
    "    return image_label_list"
   ]
  },
  {
   "cell_type": "markdown",
   "metadata": {},
   "source": [
    "#### Setting up the HOG class used to make HOGS"
   ]
  },
  {
   "cell_type": "code",
   "execution_count": 50,
   "metadata": {
    "collapsed": true
   },
   "outputs": [],
   "source": [
    "minDim = 80\n",
    "blockSize = (16,16)\n",
    "blockStride = (8,8)\n",
    "cellSize = (8,8)\n",
    "nbins = 9\n",
    "\n",
    "dims = (minDim, minDim)\n",
    "hog = cv2.HOGDescriptor(dims, blockSize, blockStride, cellSize, nbins)"
   ]
  },
  {
   "cell_type": "markdown",
   "metadata": {},
   "source": [
    "#### Geting the HOGs from our images"
   ]
  },
  {
   "cell_type": "code",
   "execution_count": 51,
   "metadata": {
    "collapsed": true
   },
   "outputs": [],
   "source": [
    "def get_hog_histograms_with_labels(image_label_list, hog, dims):\n",
    "    data = []\n",
    "    for img_label in image_label_list: \n",
    "        img = cv2.resize(img_label[0], dims)\n",
    "        #img = cv2.Canny(img,750,150)\n",
    "\n",
    "        #for images with transparency layer, reduce to 3 layers\n",
    "        hist = hog.compute(img)\n",
    "        \n",
    "        data.append((hist, img_label[1]))\n",
    "    #shuffle(data)\n",
    "    return map(list, zip(*data))"
   ]
  },
  {
   "cell_type": "code",
   "execution_count": 52,
   "metadata": {},
   "outputs": [],
   "source": [
    "# Getting hog features for all the images, concatenate positive and negatives into an array,\n",
    "image_label_list = get_images_and_labels()\n",
    "X, y = get_hog_histograms_with_labels(image_label_list, hog, dims)\n",
    "\n",
    "X = [x.flatten() for x in X]\n",
    "X_train, X_test, y_train, y_test = train_test_split(X, y, test_size=0.2, random_state=2)"
   ]
  },
  {
   "cell_type": "markdown",
   "metadata": {},
   "source": [
    "#### Classifier: Support Vector Machine (SVM)"
   ]
  },
  {
   "cell_type": "code",
   "execution_count": 57,
   "metadata": {},
   "outputs": [
    {
     "name": "stdout",
     "output_type": "stream",
     "text": [
      "Support Vector Machine Classifier  0.6\n",
      "             precision    recall  f1-score   support\n",
      "\n",
      "    Dessert       0.74      0.85      0.79        20\n",
      "     Entree       0.35      0.33      0.34        18\n",
      "      Salad       0.65      0.59      0.62        22\n",
      "\n",
      "avg / total       0.59      0.60      0.59        60\n",
      "\n",
      "Confusion Matrix:\n",
      " [[17  3  0]\n",
      " [ 5  6  7]\n",
      " [ 1  8 13]]\n"
     ]
    }
   ],
   "source": [
    "lsvm = SVC(kernel='linear', C = 1.0, probability=True)\n",
    "lsvm.fit(X_train, y_train)\n",
    "\n",
    "acc_score = lsvm.score(X_test, y_test)\n",
    "print(\"Support Vector Machine Classifier \", acc_score)\n",
    "y_pred = lsvm.predict(X_test)\n",
    "print(classification_report(y_test, y_pred))\n",
    "\n",
    "print(\"Confusion Matrix:\\n\", confusion_matrix(y_test, y_pred))"
   ]
  },
  {
   "cell_type": "markdown",
   "metadata": {},
   "source": [
    "#### Gradient Boosting Classifier"
   ]
  },
  {
   "cell_type": "code",
   "execution_count": 54,
   "metadata": {},
   "outputs": [
    {
     "name": "stdout",
     "output_type": "stream",
     "text": [
      "Gradient Boosting Classifier:  0.716666666667\n",
      "             precision    recall  f1-score   support\n",
      "\n",
      "    Dessert       0.83      0.95      0.88        20\n",
      "     Entree       0.59      0.56      0.57        18\n",
      "      Salad       0.70      0.64      0.67        22\n",
      "\n",
      "avg / total       0.71      0.72      0.71        60\n",
      "\n",
      "[[19  0  1]\n",
      " [ 3 10  5]\n",
      " [ 1  7 14]]\n"
     ]
    }
   ],
   "source": [
    "from sklearn.ensemble import GradientBoostingClassifier\n",
    "\n",
    "clf = GradientBoostingClassifier(n_estimators=100, learning_rate=1.0, max_depth=1)\n",
    "clf.fit(X_train, y_train)\n",
    "\n",
    "prediction = clf.predict(X_test)\n",
    "acc_score = accuracy_score(y_test, prediction)\n",
    "print(\"Gradient Boosting Classifier: \", acc_score)\n",
    "\n",
    "print(classification_report(y_test, prediction))\n",
    "print(confusion_matrix(y_test, prediction))"
   ]
  },
  {
   "cell_type": "markdown",
   "metadata": {},
   "source": [
    "### Image detection using color processing"
   ]
  }
 ],
 "metadata": {
  "kernelspec": {
   "display_name": "Python 3",
   "language": "python",
   "name": "python3"
  },
  "language_info": {
   "codemirror_mode": {
    "name": "ipython",
    "version": 3
   },
   "file_extension": ".py",
   "mimetype": "text/x-python",
   "name": "python",
   "nbconvert_exporter": "python",
   "pygments_lexer": "ipython3",
   "version": "3.6.1"
  }
 },
 "nbformat": 4,
 "nbformat_minor": 2
}
