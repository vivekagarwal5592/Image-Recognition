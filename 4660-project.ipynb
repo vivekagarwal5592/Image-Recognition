{
 "cells": [
  {
   "cell_type": "code",
   "execution_count": 1,
   "metadata": {
    "collapsed": true
   },
   "outputs": [],
   "source": [
    "# Importing libraries and packages:\n",
    "from sklearn.linear_model import LogisticRegression\n",
    "from sklearn.cluster import KMeans\n",
    "from sklearn.model_selection import train_test_split\n",
    "from sklearn.metrics import accuracy_score\n",
    "from sklearn.model_selection import cross_val_score\n",
    "from sklearn import metrics\n",
    "import matplotlib.pyplot as plt\n",
    "import numpy as np\n",
    "import pandas as pd\n",
    "import cv2\n",
    "%matplotlib inline\n",
    "import glob\n",
    "import csv\n",
    "from sklearn.decomposition import PCA,TruncatedSVD\n",
    "import os"
   ]
  },
  {
   "cell_type": "code",
   "execution_count": 2,
   "metadata": {
    "collapsed": true
   },
   "outputs": [],
   "source": [
    "with open('V:/user/college/Fall/4660/project/eggs.csv', 'w', newline='') as csvfile:\n",
    "    spamwriter = csv.writer(csvfile,\n",
    "                            quotechar='|', quoting=csv.QUOTE_MINIMAL)\n",
    "    column_indexes = np.arange(6913)\n",
    "    spamwriter.writerow(column_indexes)\n",
    "    for img in glob.glob(\"V:/user/college/Fall/4660/project/images/*.jpg\"):\n",
    "        #print(img)\n",
    "        a= cv2.imread(img)\n",
    "        resized_image = cv2.resize(a, (48, 48)) \n",
    "        b = np.reshape(resized_image,(6912))\n",
    "        b=np.append(b,os.path.basename(img))\n",
    "        spamwriter.writerow(b)"
   ]
  },
  {
   "cell_type": "code",
   "execution_count": 3,
   "metadata": {
    "collapsed": true
   },
   "outputs": [],
   "source": [
    "data = pd.read_csv('V:/user/college/Fall/4660/project/eggs.csv')\n",
    "data.columns.values\n",
    "names = data['6912']\n",
    "data = data.drop(['6912'],axis =1)"
   ]
  },
  {
   "cell_type": "code",
   "execution_count": 4,
   "metadata": {},
   "outputs": [
    {
     "data": {
      "text/plain": [
       "0.88494509541557786"
      ]
     },
     "execution_count": 4,
     "metadata": {},
     "output_type": "execute_result"
    }
   ],
   "source": [
    "pca = PCA(n_components =300,whiten = 'True')\n",
    "x =pca.fit(data).transform(data)\n",
    "a = pca.explained_variance_ratio_.sum()\n",
    "a"
   ]
  },
  {
   "cell_type": "code",
   "execution_count": 5,
   "metadata": {
    "collapsed": true
   },
   "outputs": [],
   "source": [
    "X = pd.DataFrame(x)"
   ]
  },
  {
   "cell_type": "code",
   "execution_count": 6,
   "metadata": {},
   "outputs": [
    {
     "data": {
      "text/plain": [
       "array([2, 2, 1, ..., 2, 2, 2])"
      ]
     },
     "execution_count": 6,
     "metadata": {},
     "output_type": "execute_result"
    }
   ],
   "source": [
    "my_KMeans = KMeans(n_clusters=3)\n",
    "my_KMeans.fit(X)\n",
    "labels = my_KMeans.labels_\n",
    "np.savetxt(\"V:/user/college/Fall/4660/project/labels.csv\", labels, delimiter=\",\")\n",
    "labels"
   ]
  },
  {
   "cell_type": "code",
   "execution_count": 15,
   "metadata": {},
   "outputs": [],
   "source": [
    "from shutil import copyfile\n",
    "\n",
    "\n",
    "classified_data = zip(names,labels)\n",
    "resultSet = set(classified_data)\n",
    "src = 'V:/user/college/Fall/4660/project/images/'\n",
    "dest1= 'V:/user/college/Fall/4660/project/dest1/'\n",
    "dest2 = 'V:/user/college/Fall/4660/project/dest2/'\n",
    "dest0 = 'V:/user/college/Fall/4660/project/dest0/'\n",
    "\n",
    "for i in resultSet:\n",
    "    if(i[1] == 1):\n",
    "        copyfile(src +i[0], dest1+i[0])\n",
    "    elif(i[1] == 0):\n",
    "        copyfile(src +i[0], dest0+i[0])\n",
    "    elif(i[1] ==2):\n",
    "        copyfile(src +i[0], dest2+i[0])"
   ]
  }
 ],
 "metadata": {
  "kernelspec": {
   "display_name": "Python 3",
   "language": "python",
   "name": "python3"
  },
  "language_info": {
   "codemirror_mode": {
    "name": "ipython",
    "version": 3
   },
   "file_extension": ".py",
   "mimetype": "text/x-python",
   "name": "python",
   "nbconvert_exporter": "python",
   "pygments_lexer": "ipython3",
   "version": "3.5.4"
  }
 },
 "nbformat": 4,
 "nbformat_minor": 2
}
