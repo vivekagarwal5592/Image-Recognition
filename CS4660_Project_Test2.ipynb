{
 "cells": [
  {
   "cell_type": "code",
   "execution_count": 46,
   "metadata": {
    "collapsed": true
   },
   "outputs": [],
   "source": [
    "from os import listdir\n",
    "from os.path import isfile, join\n",
    "from io import open\n",
    "from time import time\n",
    "\n",
    "import cv2\n",
    "import os\n",
    "import numpy as np\n",
    "from random import shuffle\n",
    "import imutils #need to install this with pip\n",
    "import matplotlib.pyplot as plt\n",
    "from skimage import data, color, exposure\n",
    "from sklearn.svm import SVC\n",
    "from sklearn.model_selection import train_test_split\n",
    "from sklearn.metrics import accuracy_score\n",
    "from sklearn.metrics import confusion_matrix\n",
    "from sklearn.metrics import classification_report\n",
    "%matplotlib inline"
   ]
  },
  {
   "cell_type": "code",
   "execution_count": 47,
   "metadata": {
    "collapsed": true
   },
   "outputs": [],
   "source": [
    "label_list = [\"Entree\", \"Salad\", \"Dessert\"]"
   ]
  },
  {
   "cell_type": "code",
   "execution_count": 48,
   "metadata": {
    "collapsed": true
   },
   "outputs": [],
   "source": [
    "# Utility method to get all the clinical text documents for a given label.\n",
    "# For simplicity, the training and test documents are origanized into folders whose name is same as the \n",
    "# label name.\n",
    "def get_file_list_for_label(label):\n",
    "    \"\"\"\n",
    "    Returns the list of files for a given label. Assumes that the clinical documents are arranged into\n",
    "    folder with same name as the labels under '../Data' directory.\n",
    "    \"\"\"\n",
    "    data_file_path = \"./Data/Training/\" + label\n",
    "    return [join(data_file_path, f) for f in listdir(data_file_path) if isfile(join(data_file_path, f))]"
   ]
  },
  {
   "cell_type": "code",
   "execution_count": 49,
   "metadata": {
    "collapsed": true
   },
   "outputs": [],
   "source": [
    "# Constructs and returns a list of images and the corresponding labels\n",
    "# The feature at this point is nothing but the image itself. Later in pre-processing,\n",
    "# the image content will be reduced into features using HOG.\n",
    "def get_images_and_labels():\n",
    "    \"\"\"\n",
    "    Returns all the image contents (features), their corresponding label names as \n",
    "    two a list of tuples.\n",
    "    \"\"\"\n",
    "    image_label_list = []\n",
    "    for label in label_list:\n",
    "        file_list = get_file_list_for_label(label)\n",
    "        for file in file_list:\n",
    "            img = cv2.imread(file)\n",
    "            image_label_list.append((img, label))\n",
    "    shuffle(image_label_list)\n",
    "    return image_label_list"
   ]
  },
  {
   "cell_type": "code",
   "execution_count": 50,
   "metadata": {
    "collapsed": true
   },
   "outputs": [],
   "source": [
    "minDim = 80\n",
    "blockSize = (16,16)\n",
    "blockStride = (8,8)\n",
    "cellSize = (8,8)\n",
    "nbins = 9\n",
    "\n",
    "dims = (minDim, minDim)\n",
    "\n",
    "hog = cv2.HOGDescriptor(dims, blockSize, blockStride, cellSize, nbins)"
   ]
  },
  {
   "cell_type": "code",
   "execution_count": 51,
   "metadata": {
    "collapsed": true
   },
   "outputs": [],
   "source": [
    "def get_hog_histograms_with_labels(image_label_list, hog, dims):\n",
    "    data = []\n",
    "    for img_label in image_label_list: \n",
    "        img = cv2.resize(img_label[0], dims)\n",
    "\n",
    "        #for images with transparency layer, reduce to 3 layers\n",
    "        hist = hog.compute(img[:,:,:3])\n",
    "        \n",
    "        data.append((hist, img_label[1]))\n",
    "    shuffle(data)\n",
    "    return map(list, zip(*data))"
   ]
  },
  {
   "cell_type": "code",
   "execution_count": 52,
   "metadata": {},
   "outputs": [
    {
     "name": "stdout",
     "output_type": "stream",
     "text": [
      "test accuracy  0.666666666667\n",
      "             precision    recall  f1-score   support\n",
      "\n",
      "    Dessert       0.75      0.79      0.77        19\n",
      "     Entree       0.59      0.59      0.59        22\n",
      "      Salad       0.67      0.63      0.65        19\n",
      "\n",
      "avg / total       0.67      0.67      0.67        60\n",
      "\n"
     ]
    }
   ],
   "source": [
    "image_label_list = get_images_and_labels()\n",
    "\n",
    "X, y = get_hog_histograms_with_labels(image_label_list, hog, dims)\n",
    "\n",
    "X = [x.flatten() for x in X]\n",
    "\n",
    "X_train, X_test, y_train, y_test = train_test_split(X, y, test_size=0.2, random_state=2)\n",
    "\n",
    "lsvm = SVC(kernel='linear', C = 1.0, probability=True)\n",
    "lsvm.fit(X_train, y_train)\n",
    "\n",
    "print(\"test accuracy \", lsvm.score(X_test, y_test))\n",
    "y_pred = lsvm.predict(X_test)\n",
    "print(classification_report(y_test, y_pred))"
   ]
  }
 ],
 "metadata": {
  "kernelspec": {
   "display_name": "Python 3",
   "language": "python",
   "name": "python3"
  },
  "language_info": {
   "codemirror_mode": {
    "name": "ipython",
    "version": 3
   },
   "file_extension": ".py",
   "mimetype": "text/x-python",
   "name": "python",
   "nbconvert_exporter": "python",
   "pygments_lexer": "ipython3",
   "version": "3.6.1"
  }
 },
 "nbformat": 4,
 "nbformat_minor": 2
}
