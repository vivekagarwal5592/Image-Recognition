{
 "cells": [
  {
   "cell_type": "code",
   "execution_count": 2,
   "metadata": {
    "collapsed": true
   },
   "outputs": [],
   "source": [
    "# Importing libraries and packages:\n",
    "from sklearn.linear_model import LogisticRegression\n",
    "from sklearn.cluster import KMeans\n",
    "from sklearn.model_selection import train_test_split\n",
    "from sklearn.metrics import accuracy_score\n",
    "from sklearn.model_selection import cross_val_score\n",
    "from sklearn import metrics\n",
    "import matplotlib.pyplot as plt\n",
    "import numpy as np\n",
    "import pandas as pd\n",
    "import cv2\n",
    "%matplotlib inline\n",
    "import glob\n",
    "import csv\n",
    "from sklearn.decomposition import PCA,TruncatedSVD\n",
    "import os\n",
    "import numpy as np\n",
    "from sklearn.decomposition import PCA,TruncatedSVD"
   ]
  },
  {
   "cell_type": "code",
   "execution_count": 4,
   "metadata": {
    "collapsed": true
   },
   "outputs": [],
   "source": [
    "label_list = [\"Entree\", \"Salad\", \"Dessert\"]\n",
    "i=1\n",
    "image_with_labels = []\n",
    "for img in glob.glob(\"V:/user/college/Fall/4660/project/new_images/Dessert/*.jpg\"):\n",
    "    x= cv2.imread(img)\n",
    "    cv2.imwrite(\"V:/user/college/Fall/4660/project/new_images/all/\"+str(i)+\".jpg\", x)\n",
    "    image_with_labels.append((str(i)+\".jpg\", label_list[0]))\n",
    "    i += 1\n",
    "for img in glob.glob(\"V:/user/college/Fall/4660/project/new_images/Entree/*.jpg\"):\n",
    "    x= cv2.imread(img)\n",
    "    cv2.imwrite(\"V:/user/college/Fall/4660/project/new_images/all/\"+str(i)+\".jpg\", x)\n",
    "    image_with_labels.append((str(i)+\".jpg\", label_list[1]))\n",
    "    i += 1\n",
    "for img in glob.glob(\"V:/user/college/Fall/4660/project/new_images/Salad/*.jpg\"):\n",
    "    x= cv2.imread(img)\n",
    "    cv2.imwrite(\"V:/user/college/Fall/4660/project/new_images/all/\"+str(i)+\".jpg\", x)\n",
    "    image_with_labels.append((str(i)+\".jpg\", label_list[2]))\n",
    "    i += 1"
   ]
  },
  {
   "cell_type": "code",
   "execution_count": 5,
   "metadata": {},
   "outputs": [
    {
     "data": {
      "text/plain": [
       "(300, 2)"
      ]
     },
     "execution_count": 5,
     "metadata": {},
     "output_type": "execute_result"
    }
   ],
   "source": [
    "np.shape(image_with_labels)"
   ]
  },
  {
   "cell_type": "code",
   "execution_count": 27,
   "metadata": {},
   "outputs": [
    {
     "data": {
      "text/plain": [
       "(300,)"
      ]
     },
     "execution_count": 27,
     "metadata": {},
     "output_type": "execute_result"
    }
   ],
   "source": [
    "l = []\n",
    "img_names = []\n",
    "for img in glob.glob(\"V:/user/college/Fall/4660/project/new_images/maskedImages/*.jpg\"):\n",
    "        #print(img)\n",
    "        a= cv2.imread(img)\n",
    "        resized_image = cv2.resize(a, (80, 80)) \n",
    "        b = np.reshape(resized_image,(19200))\n",
    "        img_names.append(os.path.basename(img))\n",
    "        l.append(b)\n",
    "        \n",
    "np.shape(img_names)"
   ]
  },
  {
   "cell_type": "code",
   "execution_count": 150,
   "metadata": {
    "collapsed": true
   },
   "outputs": [],
   "source": [
    "minDim = 80\n",
    "blockSize = (16,16)\n",
    "blockStride = (8,8)\n",
    "cellSize = (8,8)\n",
    "nbins = 9\n",
    "\n",
    "dims = (minDim, minDim)\n",
    "\n",
    "hog = cv2.HOGDescriptor(dims, blockSize, blockStride, cellSize, nbins)"
   ]
  },
  {
   "cell_type": "code",
   "execution_count": 153,
   "metadata": {},
   "outputs": [
    {
     "data": {
      "text/plain": [
       "(300, 2919)"
      ]
     },
     "execution_count": 153,
     "metadata": {},
     "output_type": "execute_result"
    }
   ],
   "source": [
    "data = []\n",
    "Y = []\n",
    "R = []\n",
    "G = []\n",
    "B = []\n",
    "#l = np.asarray(l)\n",
    "for row,i in enumerate(glob.glob(\"V:/user/college/Fall/4660/project/new_images/maskedImages/*.jpg\")):\n",
    "    img_read = cv2.imread(i)\n",
    "    img_label = cv2.resize(img_read, dims) \n",
    "    r=0\n",
    "    g=0\n",
    "    b=0\n",
    "    for k in range(len(img_label)):\n",
    "        for j in range(len(img_label[k])):\n",
    "            r += img_label[k][j][0]\n",
    "            g += img_label[k][j][1]\n",
    "            b += img_label[k][j][2]\n",
    "    R.append(r/6400)\n",
    "    G.append(g/6400)\n",
    "    B.append(b/6400)\n",
    "        \n",
    "    img = cv2.Canny(img_label,750,150)\n",
    "    hist = hog.compute(img)\n",
    "    data.append((hist))\n",
    "    x = os.path.basename(i).split('.')\n",
    "    \n",
    "    if(int(x[0])>=1 and int(x[0])<=100):\n",
    "        Y.append(('Dessert',os.path.basename(i)))\n",
    "    \n",
    "    if(int(x[0])>=101 and int(x[0])<=200):\n",
    "        Y.append(('Entree',os.path.basename(i)))\n",
    "    \n",
    "    if(int(x[0])>=201 and int(x[0])<=300):\n",
    "         Y.append(('Salad',os.path.basename(i)))\n",
    "\n",
    "data = np.reshape(data,(300,2916))            \n",
    "\n",
    "new_list = []\n",
    "for i in range(len(data)):\n",
    "    a = list(data[i])\n",
    "    a.append(R[i])\n",
    "    a.append(G[i])\n",
    "    a.append(B[i])\n",
    "    new_list.append(a)\n",
    "data = new_list\n",
    "np.shape(data)"
   ]
  },
  {
   "cell_type": "code",
   "execution_count": 183,
   "metadata": {},
   "outputs": [
    {
     "data": {
      "text/plain": [
       "(300, 3)"
      ]
     },
     "execution_count": 183,
     "metadata": {},
     "output_type": "execute_result"
    }
   ],
   "source": [
    "new_list = []\n",
    "for i in range(len(R)):\n",
    "    a = []\n",
    "    a.append(R[i])\n",
    "    a.append(G[i])\n",
    "    a.append(B[i])\n",
    "    new_list.append(a)\n",
    "np.shape(new_list)\n",
    "#data = new_list\n",
    "np.shape(data)"
   ]
  },
  {
   "cell_type": "code",
   "execution_count": 184,
   "metadata": {},
   "outputs": [],
   "source": [
    "from sklearn.preprocessing import normalize\n",
    "#data = np.asarray(data)\n",
    "data=normalize(data)"
   ]
  },
  {
   "cell_type": "code",
   "execution_count": 185,
   "metadata": {
    "collapsed": true
   },
   "outputs": [],
   "source": [
    "##This is not useful. clustering gets bothed up after doing PCA\n",
    "#pca = PCA(n_components =100,whiten = 'True')\n",
    "#x =pca.fit(data).transform(data)\n",
    "#a = pca.explained_variance_ratio_.sum()\n",
    "#a"
   ]
  },
  {
   "cell_type": "code",
   "execution_count": 187,
   "metadata": {},
   "outputs": [
    {
     "data": {
      "text/plain": [
       "(300, 3)"
      ]
     },
     "execution_count": 187,
     "metadata": {},
     "output_type": "execute_result"
    }
   ],
   "source": [
    "my_KMeans = KMeans(n_clusters=3)\n",
    "my_KMeans.fit(data)\n",
    "labels = my_KMeans.labels_\n",
    "#np.savetxt(\"V:/user/college/Fall/4660/project/labels.csv\", labels, delimiter=\",\")\n",
    "labels\n",
    "np.shape(labels)"
   ]
  },
  {
   "cell_type": "code",
   "execution_count": 179,
   "metadata": {},
   "outputs": [
    {
     "data": {
      "text/plain": [
       "(300, 3)"
      ]
     },
     "execution_count": 179,
     "metadata": {},
     "output_type": "execute_result"
    }
   ],
   "source": [
    "new_list = []\n",
    "for i in range(len(Y)):\n",
    "    a = list(Y[i])\n",
    "    a.append(my_KMeans.labels_[i])\n",
    "    new_list.append(a)\n",
    "np.shape(new_list)"
   ]
  },
  {
   "cell_type": "code",
   "execution_count": 180,
   "metadata": {
    "collapsed": true
   },
   "outputs": [],
   "source": [
    "entree1 = 0\n",
    "entree2 = 0\n",
    "entree0 = 0\n",
    "salad1 = 0\n",
    "salad2 = 0\n",
    "salad0 = 0\n",
    "dessert1 = 0\n",
    "dessert2 = 0\n",
    "dessert0 = 0"
   ]
  },
  {
   "cell_type": "code",
   "execution_count": 181,
   "metadata": {
    "collapsed": true
   },
   "outputs": [],
   "source": [
    "for i in range(len(new_list)):\n",
    "    if(new_list[i][0] == \"Entree\" and new_list[i][2] == 0):\n",
    "        entree0 +=1\n",
    "    if(new_list[i][0] == \"Entree\" and new_list[i][2] == 1):\n",
    "        entree1 +=1\n",
    "    if(new_list[i][0] == \"Entree\" and new_list[i][2] == 2):\n",
    "        entree2 +=1\n",
    "    if(new_list[i][0] == \"Salad\" and new_list[i][2] == 0):\n",
    "        salad0 +=1\n",
    "    if(new_list[i][0] == \"Salad\" and new_list[i][2] == 1):\n",
    "        salad1 +=1\n",
    "    if(new_list[i][0] == \"Salad\" and new_list[i][2] == 2):\n",
    "        salad2 +=1\n",
    "    if(new_list[i][0] == \"Dessert\" and new_list[i][2] == 0):\n",
    "        dessert0 +=1\n",
    "    if(new_list[i][0] == \"Dessert\" and new_list[i][2] == 1):\n",
    "        dessert1 +=1\n",
    "    if(new_list[i][0] == \"Dessert\" and new_list[i][2] == 2):\n",
    "        dessert2 +=1"
   ]
  },
  {
   "cell_type": "code",
   "execution_count": 182,
   "metadata": {},
   "outputs": [
    {
     "name": "stdout",
     "output_type": "stream",
     "text": [
      "entree0: 7\n",
      "entree1: 71\n",
      "entree2: 22\n",
      "salad0: 63\n",
      "salad1: 18\n",
      "salad2: 19\n",
      "dessert0: 1\n",
      "dessert1: 30\n",
      "dessert2: 69\n",
      "total: 300\n"
     ]
    }
   ],
   "source": [
    "print(\"entree0:\",entree0)\n",
    "print(\"entree1:\",entree1)\n",
    "print(\"entree2:\",entree2)\n",
    "print(\"salad0:\",salad0)\n",
    "print(\"salad1:\",salad1)\n",
    "print(\"salad2:\",salad2)\n",
    "print(\"dessert0:\",dessert0)\n",
    "print(\"dessert1:\",dessert1)\n",
    "print(\"dessert2:\",dessert2)\n",
    "a = entree0 + entree1 +entree2 +salad0 +salad1 +salad2 +dessert0 + dessert1 + dessert2\n",
    "print(\"total:\",a)"
   ]
  },
  {
   "cell_type": "code",
   "execution_count": 161,
   "metadata": {},
   "outputs": [
    {
     "name": "stdout",
     "output_type": "stream",
     "text": [
      "test accuracy  0.75\n"
     ]
    },
    {
     "data": {
      "text/plain": [
       "array([0, 1, 0, 1, 0, 1, 0, 0, 1, 0, 1, 0, 0, 1, 2, 1, 0, 1, 1, 1, 0, 0, 0,\n",
       "       1, 1, 0, 0, 0, 1, 0, 1, 0, 1, 1, 2, 0, 1, 1, 1, 1, 2, 1, 0, 1, 1, 1,\n",
       "       1, 1, 0, 1, 1, 1, 1, 1, 0, 0, 0, 0, 1, 1])"
      ]
     },
     "execution_count": 161,
     "metadata": {},
     "output_type": "execute_result"
    }
   ],
   "source": [
    "from sklearn.svm import SVC\n",
    "X_train, X_test, y_train, y_test = train_test_split(data, labels, test_size=0.2, random_state=2)\n",
    "\n",
    "lsvm = SVC(kernel='linear', C = 1.0, probability=True)\n",
    "lsvm.fit(X_train, y_train)\n",
    "\n",
    "print(\"test accuracy \", lsvm.score(X_test, y_test))\n",
    "y_pred = lsvm.predict(X_test)\n",
    "y_pred"
   ]
  },
  {
   "cell_type": "code",
   "execution_count": 110,
   "metadata": {},
   "outputs": [
    {
     "name": "stdout",
     "output_type": "stream",
     "text": [
      "[[[ 60 254  88]\n",
      "  [ 59 254  90]\n",
      "  [ 62 255  90]\n",
      "  ..., \n",
      "  [ 67 254  95]\n",
      "  [ 60 253  89]\n",
      "  [ 62 255  90]]\n",
      "\n",
      " [[ 61 255  89]\n",
      "  [ 62 255  91]\n",
      "  [ 59 254  90]\n",
      "  ..., \n",
      "  [ 59 255  89]\n",
      "  [ 62 255  91]\n",
      "  [ 61 255  89]]\n",
      "\n",
      " [[ 60 254  88]\n",
      "  [ 62 255  91]\n",
      "  [ 59 255  89]\n",
      "  ..., \n",
      "  [ 65 254  91]\n",
      "  [ 67 255  93]\n",
      "  [ 62 255  91]]\n",
      "\n",
      " ..., \n",
      " [[ 56 254  88]\n",
      "  [ 56 254  88]\n",
      "  [ 56 254  88]\n",
      "  ..., \n",
      "  [ 59 255  89]\n",
      "  [ 58 254  88]\n",
      "  [ 59 255  88]]\n",
      "\n",
      " [[ 60 254  88]\n",
      "  [ 60 254  88]\n",
      "  [ 60 254  88]\n",
      "  ..., \n",
      "  [ 59 255  89]\n",
      "  [ 62 255  90]\n",
      "  [ 62 255  90]]\n",
      "\n",
      " [[ 60 254  88]\n",
      "  [ 60 254  88]\n",
      "  [ 60 254  88]\n",
      "  ..., \n",
      "  [ 60 255  90]\n",
      "  [ 62 255  90]\n",
      "  [ 62 255  90]]]\n",
      "61.0153125\n",
      "254.58078125\n",
      "89.66515625\n"
     ]
    }
   ],
   "source": [
    "#This is sample for testing whehter the colors are being properly extracted\n",
    "x= cv2.imread(\"V:/user/college/Fall/4660/project/new_images/Green.jpg\")\n",
    "img_label = cv2.resize(x, dims)\n",
    "r=0\n",
    "g=0\n",
    "b=0\n",
    "for k in range(len(img_label)):\n",
    "    for j in range(len(img_label[k])):\n",
    "        r += img_label[k][j][0]\n",
    "        g += img_label[k][j][1]\n",
    "        b += img_label[k][j][2]\n",
    "\n",
    "print(img_label)\n",
    "print(r/6400)\n",
    "print(g/6400)\n",
    "print(b/6400)"
   ]
  },
  {
   "cell_type": "code",
   "execution_count": 178,
   "metadata": {},
   "outputs": [
    {
     "data": {
      "image/png": "[encoded data removed]",
      "text/plain": [
       "<matplotlib.figure.Figure at 0x1ca57a43ef0>"
      ]
     },
     "metadata": {},
     "output_type": "display_data"
    }
   ],
   "source": [
    "import cv2\n",
    "import numpy as np\n",
    "from matplotlib import pyplot as plt\n",
    "img = cv2.imread('V:/user/college/Fall/4660/project/new_images/all/25.jpg',0)\n",
    "img = cv2.medianBlur(img,5)\n",
    "ret,th1 = cv2.threshold(img,200,255,cv2.THRESH_BINARY)\n",
    "th2 = cv2.adaptiveThreshold(img,255,cv2.ADAPTIVE_THRESH_MEAN_C,\\\n",
    "            cv2.THRESH_BINARY,11,2)\n",
    "th3 = cv2.adaptiveThreshold(img,255,cv2.ADAPTIVE_THRESH_GAUSSIAN_C,\\\n",
    "            cv2.THRESH_BINARY,11,2)\n",
    "titles = ['Original Image', 'Global Thresholding (v = 127)',\n",
    "            'Adaptive Mean Thresholding', 'Adaptive Gaussian Thresholding']\n",
    "images = [img, th1, th2, th3]\n",
    "for i in range(4):\n",
    "    plt.subplot(2,2,i+1),plt.imshow(images[i],'gray')\n",
    "    plt.title(titles[i])\n",
    "    plt.xticks([]),plt.yticks([])\n",
    "plt.show()"
   ]
  },
  {
   "cell_type": "code",
   "execution_count": 183,
   "metadata": {},
   "outputs": [
    {
     "data": {
      "text/plain": [
       "<matplotlib.image.AxesImage at 0x1ca57adde10>"
      ]
     },
     "execution_count": 183,
     "metadata": {},
     "output_type": "execute_result"
    },
    {
     "data": {
      "image/png": "[encoded data removed]",
      "text/plain": [
       "<matplotlib.figure.Figure at 0x1ca57add4e0>"
      ]
     },
     "metadata": {},
     "output_type": "display_data"
    }
   ],
   "source": [
    "plt.imshow(th1,'gray')\n",
    "b = cv2.bitwise_not( th1, a )\n",
    "plt.imshow(b,'gray')\n",
    "img = cv2.imread('V:/user/college/Fall/4660/project/new_images/all/25.jpg',0)\n",
    "output = cv2.bitwise_and(img, b)\n",
    "plt.imshow(output,'gray')"
   ]
  },
  {
   "cell_type": "code",
   "execution_count": 148,
   "metadata": {},
   "outputs": [
    {
     "name": "stdout",
     "output_type": "stream",
     "text": [
      "1.jpg\n",
      "10.jpg\n",
      "100.jpg\n",
      "101.jpg\n",
      "102.jpg\n",
      "103.jpg\n",
      "104.jpg\n",
      "105.jpg\n",
      "106.jpg\n",
      "107.jpg\n",
      "108.jpg\n",
      "109.jpg\n",
      "11.jpg\n",
      "110.jpg\n",
      "111.jpg\n",
      "112.jpg\n",
      "113.jpg\n",
      "114.jpg\n",
      "115.jpg\n",
      "116.jpg\n",
      "117.jpg\n",
      "118.jpg\n",
      "119.jpg\n",
      "12.jpg\n",
      "120.jpg\n",
      "121.jpg\n",
      "122.jpg\n",
      "123.jpg\n",
      "124.jpg\n",
      "125.jpg\n",
      "126.jpg\n",
      "127.jpg\n",
      "128.jpg\n",
      "129.jpg\n",
      "13.jpg\n",
      "130.jpg\n",
      "131.jpg\n",
      "132.jpg\n",
      "133.jpg\n",
      "134.jpg\n",
      "135.jpg\n",
      "136.jpg\n",
      "137.jpg\n",
      "138.jpg\n",
      "139.jpg\n",
      "14.jpg\n",
      "140.jpg\n",
      "141.jpg\n",
      "142.jpg\n",
      "143.jpg\n",
      "144.jpg\n",
      "145.jpg\n",
      "146.jpg\n",
      "147.jpg\n",
      "148.jpg\n",
      "149.jpg\n",
      "15.jpg\n",
      "150.jpg\n",
      "151.jpg\n",
      "152.jpg\n",
      "153.jpg\n",
      "154.jpg\n",
      "155.jpg\n",
      "156.jpg\n",
      "157.jpg\n",
      "158.jpg\n",
      "159.jpg\n",
      "16.jpg\n",
      "160.jpg\n",
      "161.jpg\n",
      "162.jpg\n",
      "163.jpg\n",
      "164.jpg\n",
      "165.jpg\n",
      "166.jpg\n",
      "167.jpg\n",
      "168.jpg\n",
      "169.jpg\n",
      "17.jpg\n",
      "170.jpg\n",
      "171.jpg\n",
      "172.jpg\n",
      "173.jpg\n",
      "174.jpg\n",
      "175.jpg\n",
      "176.jpg\n",
      "177.jpg\n",
      "178.jpg\n",
      "179.jpg\n",
      "18.jpg\n",
      "180.jpg\n",
      "181.jpg\n",
      "182.jpg\n",
      "183.jpg\n",
      "184.jpg\n",
      "185.jpg\n",
      "186.jpg\n",
      "187.jpg\n",
      "188.jpg\n",
      "189.jpg\n",
      "19.jpg\n",
      "190.jpg\n",
      "191.jpg\n",
      "192.jpg\n",
      "193.jpg\n",
      "194.jpg\n",
      "195.jpg\n",
      "196.jpg\n",
      "197.jpg\n",
      "198.jpg\n",
      "199.jpg\n",
      "2.jpg\n",
      "20.jpg\n",
      "200.jpg\n",
      "201.jpg\n",
      "202.jpg\n",
      "203.jpg\n",
      "204.jpg\n",
      "205.jpg\n",
      "206.jpg\n",
      "207.jpg\n",
      "208.jpg\n",
      "209.jpg\n",
      "21.jpg\n",
      "210.jpg\n",
      "211.jpg\n",
      "212.jpg\n",
      "213.jpg\n",
      "214.jpg\n",
      "215.jpg\n",
      "216.jpg\n",
      "217.jpg\n",
      "218.jpg\n",
      "219.jpg\n",
      "22.jpg\n",
      "220.jpg\n",
      "221.jpg\n",
      "222.jpg\n",
      "223.jpg\n",
      "224.jpg\n",
      "225.jpg\n",
      "226.jpg\n",
      "227.jpg\n",
      "228.jpg\n",
      "229.jpg\n",
      "23.jpg\n",
      "230.jpg\n",
      "231.jpg\n",
      "232.jpg\n",
      "233.jpg\n",
      "234.jpg\n",
      "235.jpg\n",
      "236.jpg\n",
      "237.jpg\n",
      "238.jpg\n",
      "239.jpg\n",
      "24.jpg\n",
      "240.jpg\n",
      "241.jpg\n",
      "242.jpg\n",
      "243.jpg\n",
      "244.jpg\n",
      "245.jpg\n",
      "246.jpg\n",
      "247.jpg\n",
      "248.jpg\n",
      "249.jpg\n",
      "25.jpg\n",
      "250.jpg\n",
      "251.jpg\n",
      "252.jpg\n",
      "253.jpg\n",
      "254.jpg\n",
      "255.jpg\n",
      "256.jpg\n",
      "257.jpg\n",
      "258.jpg\n",
      "259.jpg\n",
      "26.jpg\n",
      "260.jpg\n",
      "261.jpg\n",
      "262.jpg\n",
      "263.jpg\n",
      "264.jpg\n",
      "265.jpg\n",
      "266.jpg\n",
      "267.jpg\n",
      "268.jpg\n",
      "269.jpg\n",
      "27.jpg\n",
      "270.jpg\n",
      "271.jpg\n",
      "272.jpg\n",
      "273.jpg\n",
      "274.jpg\n",
      "275.jpg\n",
      "276.jpg\n",
      "277.jpg\n",
      "278.jpg\n",
      "279.jpg\n",
      "28.jpg\n",
      "280.jpg\n",
      "281.jpg\n",
      "282.jpg\n",
      "283.jpg\n",
      "284.jpg\n",
      "285.jpg\n",
      "286.jpg\n",
      "287.jpg\n",
      "288.jpg\n",
      "289.jpg\n",
      "29.jpg\n",
      "290.jpg\n",
      "291.jpg\n",
      "292.jpg\n",
      "293.jpg\n",
      "294.jpg\n",
      "295.jpg\n",
      "296.jpg\n",
      "297.jpg\n",
      "298.jpg\n",
      "299.jpg\n",
      "3.jpg\n",
      "30.jpg\n",
      "300.jpg\n",
      "31.jpg\n",
      "32.jpg\n",
      "33.jpg\n",
      "34.jpg\n",
      "35.jpg\n",
      "36.jpg\n",
      "37.jpg\n",
      "38.jpg\n",
      "39.jpg\n",
      "4.jpg\n",
      "40.jpg\n",
      "41.jpg\n",
      "42.jpg\n",
      "43.jpg\n",
      "44.jpg\n",
      "45.jpg\n",
      "46.jpg\n",
      "47.jpg\n",
      "48.jpg\n",
      "49.jpg\n",
      "5.jpg\n",
      "50.jpg\n",
      "51.jpg\n",
      "52.jpg\n",
      "53.jpg\n",
      "54.jpg\n",
      "55.jpg\n",
      "56.jpg\n",
      "57.jpg\n",
      "58.jpg\n",
      "59.jpg\n",
      "6.jpg\n",
      "60.jpg\n",
      "61.jpg\n",
      "62.jpg\n",
      "63.jpg\n",
      "64.jpg\n",
      "65.jpg\n",
      "66.jpg\n",
      "67.jpg\n",
      "68.jpg\n",
      "69.jpg\n",
      "7.jpg\n",
      "70.jpg\n",
      "71.jpg\n",
      "72.jpg\n",
      "73.jpg\n",
      "74.jpg\n",
      "75.jpg\n",
      "76.jpg\n",
      "77.jpg\n",
      "78.jpg\n",
      "79.jpg\n",
      "8.jpg\n",
      "80.jpg\n",
      "81.jpg\n",
      "82.jpg\n",
      "83.jpg\n",
      "84.jpg\n",
      "85.jpg\n",
      "86.jpg\n",
      "87.jpg\n",
      "88.jpg\n",
      "89.jpg\n",
      "9.jpg\n",
      "90.jpg\n",
      "91.jpg\n",
      "92.jpg\n",
      "93.jpg\n",
      "94.jpg\n",
      "95.jpg\n",
      "96.jpg\n",
      "97.jpg\n",
      "98.jpg\n",
      "99.jpg\n"
     ]
    }
   ],
   "source": [
    "for i,image in enumerate(glob.glob(\"V:/user/college/Fall/4660/project/new_images/all/*.jpg\")):\n",
    "    img = cv2.imread(image)\n",
    "    img2gray = cv2.cvtColor(img, cv2.COLOR_BGR2GRAY)\n",
    "    ret,mask = cv2.threshold(img2gray,200,255,cv2.THRESH_BINARY_INV)\n",
    "    #mask_inv = cv2.bitwise_not( mask )\n",
    "    img_fg = cv2.bitwise_and(img,img,mask =mask)\n",
    "    b=os.path.basename(image)\n",
    "    print(b)\n",
    "    cv2.imwrite(\"V:/user/college/Fall/4660/project/new_images/maskedImages/\"+b, img_fg);"
   ]
  },
  {
   "cell_type": "code",
   "execution_count": null,
   "metadata": {
    "collapsed": true
   },
   "outputs": [],
   "source": []
  }
 ],
 "metadata": {
  "kernelspec": {
   "display_name": "Python 3",
   "language": "python",
   "name": "python3"
  },
  "language_info": {
   "codemirror_mode": {
    "name": "ipython",
    "version": 3
   },
   "file_extension": ".py",
   "mimetype": "text/x-python",
   "name": "python",
   "nbconvert_exporter": "python",
   "pygments_lexer": "ipython3",
   "version": "3.5.4"
  }
 },
 "nbformat": 4,
 "nbformat_minor": 2
}
